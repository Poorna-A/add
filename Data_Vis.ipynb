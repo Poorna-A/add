{
  "nbformat": 4,
  "nbformat_minor": 0,
  "metadata": {
    "colab": {
      "provenance": [],
      "mount_file_id": "156gcWLsmgIbEQPbdCFGUxO8jk04nYFDe",
      "authorship_tag": "ABX9TyN4EJQ7lIg0gk5itY66QVGa",
      "include_colab_link": true
    },
    "kernelspec": {
      "name": "python3",
      "display_name": "Python 3"
    },
    "language_info": {
      "name": "python"
    }
  },
  "cells": [
    {
      "cell_type": "markdown",
      "metadata": {
        "id": "view-in-github",
        "colab_type": "text"
      },
      "source": [
        "<a href=\"https://colab.research.google.com/github/Poorna-A/add/blob/master/Data_Vis.ipynb\" target=\"_parent\"><img src=\"https://colab.research.google.com/assets/colab-badge.svg\" alt=\"Open In Colab\"/></a>"
      ]
    },
    {
      "cell_type": "code",
      "source": [
        "!pip install ipywidgets\n",
        "!pip install pyxlsb\n",
        "!pip install jupyter-dash\n",
        "!pip install dash\n",
        "!pip install plotly\n",
        "import pandas as pd\n",
        "import ipywidgets as widgets\n",
        "import plotly.express as px\n",
        "import matplotlib.pyplot as plt\n",
        "from dash import Dash, dcc, html, Input, Output"
      ],
      "metadata": {
        "collapsed": true,
        "id": "_aVYhPTK9nlU"
      },
      "execution_count": null,
      "outputs": []
    },
    {
      "cell_type": "code",
      "source": [
        "from google.colab import drive\n",
        "drive.mount('/content/drive')"
      ],
      "metadata": {
        "colab": {
          "base_uri": "https://localhost:8080/"
        },
        "id": "EVv--O2g6XmY",
        "outputId": "a9157d1b-2f09-4770-c7d7-aa1a66561442"
      },
      "execution_count": 2,
      "outputs": [
        {
          "output_type": "stream",
          "name": "stdout",
          "text": [
            "Drive already mounted at /content/drive; to attempt to forcibly remount, call drive.mount(\"/content/drive\", force_remount=True).\n"
          ]
        }
      ]
    },
    {
      "cell_type": "code",
      "source": [
        "location = r'/content/drive/MyDrive/Poorna  Akhil Workspace/Skill Networking/June 17 Alloc.xlsb'\n",
        "df = pd.read_excel(location,sheet_name = 'Sheet1')"
      ],
      "metadata": {
        "id": "3AjgcaoFDfSc"
      },
      "execution_count": 3,
      "outputs": []
    },
    {
      "cell_type": "code",
      "source": [
        "df.columns"
      ],
      "metadata": {
        "colab": {
          "base_uri": "https://localhost:8080/"
        },
        "id": "8N2rTVH_-Euf",
        "outputId": "e88bfc6e-be6e-440e-9b00-f42c0509f3b2"
      },
      "execution_count": 4,
      "outputs": [
        {
          "output_type": "execute_result",
          "data": {
            "text/plain": [
              "Index(['Employee ID', 'Employee Name', 'Employee Type', 'OBU',\n",
              "       'OBU Description', 'Customer ID', 'Customer Name', 'Project ID',\n",
              "       'Project Description', 'Program Description', 'Program Manager',\n",
              "       'Contract Category', 'Project Manager ID', 'Project Manager Name',\n",
              "       'Project Start Date', 'Project End Date', 'Start Date', 'End Date',\n",
              "       'Country', 'Location', 'Location Descr', 'JobCode', 'JobCode Descr',\n",
              "       'Billable?', 'Hire Reason', 'Client Project Role',\n",
              "       'Client Project Role Desc', 'Alias Name', 'Amount', 'Rate Per Role',\n",
              "       'Frequency', 'Currency', 'Allocation %tage', 'Submitted By',\n",
              "       'Submission Date', 'Reason for Allocation', 'Allocation Status',\n",
              "       'OptimUST', 'Manager ID', 'Manager Name', 'Hire Date',\n",
              "       'Termination Date', 'Employee Status', 'Business Unit', 'BU Descr',\n",
              "       'Department ID', 'Department Descr', 'Comments',\n",
              "       'Allocation Modified Date'],\n",
              "      dtype='object')"
            ]
          },
          "metadata": {},
          "execution_count": 4
        }
      ]
    },
    {
      "cell_type": "code",
      "source": [
        "# Count employees per country\n",
        "country_count = df['Country'].value_counts().reset_index()\n",
        "country_count.columns = ['Country', 'Employee Count']"
      ],
      "metadata": {
        "id": "pUCADK5IyEAH"
      },
      "execution_count": 7,
      "outputs": []
    },
    {
      "cell_type": "markdown",
      "source": [
        "Error in total allocation data... Need to check it..."
      ],
      "metadata": {
        "id": "sPsGeVGgzdpm"
      }
    },
    {
      "cell_type": "code",
      "source": [
        "# Calculate total allocation percentage for each employee\n",
        "df['Allocation %tage'] = df['Allocation %tage'].astype(float)\n",
        "total_allocation = df.groupby('Employee ID')['Allocation %tage'].sum().reset_index()\n",
        "total_allocation.columns = ['Employee ID', 'Total Allocation']\n",
        "\n",
        "# Filter employees with total allocation less than 100%\n",
        "under_allocated = total_allocation[total_allocation['Total Allocation'] < 100]\n",
        "\n",
        "# Merge with the original dataframe to get country and location info\n",
        "under_allocated = pd.merge(under_allocated, df[['Employee ID', 'Country', 'Location', 'Allocation %tage']], on='Employee ID')\n"
      ],
      "metadata": {
        "id": "zX_oqCtyyG7r"
      },
      "execution_count": 8,
      "outputs": []
    },
    {
      "cell_type": "code",
      "source": [
        "# Initialize the Dash app\n",
        "app = Dash(__name__)\n",
        "\n",
        "app.layout = html.Div([\n",
        "    dcc.Graph(id='country-graph'),\n",
        "    dcc.Graph(id='location-graph'),\n",
        "    dcc.Graph(id='under-allocation-graph'),\n",
        "    dcc.Store(id='selected-country', storage_type='memory'),\n",
        "    dcc.Store(id='selected-location', storage_type='memory')\n",
        "])\n",
        "\n",
        "@app.callback(\n",
        "    Output('country-graph', 'figure'),\n",
        "    Input('country-graph', 'clickData')\n",
        ")\n",
        "def update_country_graph(click_data):\n",
        "    fig = px.pie(country_count, names='Country', values='Employee Count', title='Employees per Country')\n",
        "    return fig"
      ],
      "metadata": {
        "id": "zjXgiKsJyJ7Q"
      },
      "execution_count": 9,
      "outputs": []
    },
    {
      "cell_type": "markdown",
      "source": [
        "Location Graph is not responding.. .. And So that the allocation graph is also blank"
      ],
      "metadata": {
        "id": "XfBBjUZ1zp4p"
      }
    },
    {
      "cell_type": "code",
      "source": [
        "@app.callback(\n",
        "    Output('location-graph', 'figure'),\n",
        "    [Input('country-graph', 'clickData'),\n",
        "     Input('selected-country', 'data')]\n",
        ")\n",
        "def update_location_graph(click_data, selected_country):\n",
        "    ctx = dash.callback_context\n",
        "    if ctx.triggered and ctx.triggered[0]['prop_id'].split('.')[0] == 'country-graph':\n",
        "        selected_country = click_data['points'][0]['label']\n",
        "    if selected_country:\n",
        "        filtered_df = df[df['Country'] == selected_country]\n",
        "        location_count = filtered_df['Location'].value_counts().reset_index()\n",
        "        location_count.columns = ['Location', 'Employee Count']\n",
        "        fig = px.bar(location_count, x='Location', y='Employee Count', title=f'Employees in {selected_country}')\n",
        "        return fig\n",
        "    return px.bar(title='Select a country to see the distribution of employees by location.')\n"
      ],
      "metadata": {
        "id": "JrW9iY_RyMon"
      },
      "execution_count": 10,
      "outputs": []
    },
    {
      "cell_type": "code",
      "source": [
        "@app.callback(\n",
        "    Output('under-allocation-graph', 'figure'),\n",
        "    [Input('location-graph', 'clickData'),\n",
        "     Input('selected-country', 'data')]\n",
        ")\n",
        "def update_under_allocation_graph(click_data, selected_country):\n",
        "    ctx = dash.callback_context\n",
        "    if ctx.triggered and ctx.triggered[0]['prop_id'].split('.')[0] == 'location-graph':\n",
        "        selected_location = click_data['points'][0]['label']\n",
        "        filtered_under_allocated = under_allocated[(under_allocated['Country'] == selected_country) &\n",
        "                                                   (under_allocated['Location'] == selected_location)]\n",
        "        fig = px.bar(filtered_under_allocated, x='Employee ID', y='Total Allocation',\n",
        "                     title=f'Employees with Less Than 100% Allocation in {selected_location}')\n",
        "        return fig\n",
        "    return px.bar(title='Select a location to see employees with less than 100% allocation.')\n"
      ],
      "metadata": {
        "id": "B2yddkk2yPeu"
      },
      "execution_count": 11,
      "outputs": []
    },
    {
      "cell_type": "code",
      "source": [
        "@app.callback(\n",
        "    Output('selected-country', 'data'),\n",
        "    Input('country-graph', 'clickData')\n",
        ")\n",
        "def store_selected_country(click_data):\n",
        "    if click_data:\n",
        "        selected_country = click_data['points'][0]['label']\n",
        "        return selected_country\n",
        "    return None\n",
        "\n",
        "@app.callback(\n",
        "    Output('selected-location', 'data'),\n",
        "    Input('location-graph', 'clickData')\n",
        ")\n",
        "def store_selected_location(click_data):\n",
        "    if click_data:\n",
        "        selected_location = click_data['points'][0]['label']\n",
        "        return selected_location\n",
        "    return None\n"
      ],
      "metadata": {
        "id": "eEUgWsNyySIn"
      },
      "execution_count": 12,
      "outputs": []
    },
    {
      "cell_type": "code",
      "source": [
        "# Run the app\n",
        "app.run_server(mode='inline')"
      ],
      "metadata": {
        "colab": {
          "base_uri": "https://localhost:8080/",
          "height": 672
        },
        "id": "boH2QRMVyUln",
        "outputId": "b87e89da-3086-4907-b2a1-a9f9ad88a5bd"
      },
      "execution_count": 13,
      "outputs": [
        {
          "output_type": "display_data",
          "data": {
            "text/plain": [
              "<IPython.core.display.Javascript object>"
            ],
            "application/javascript": [
              "(async (port, path, width, height, cache, element) => {\n",
              "    if (!google.colab.kernel.accessAllowed && !cache) {\n",
              "      return;\n",
              "    }\n",
              "    element.appendChild(document.createTextNode(''));\n",
              "    const url = await google.colab.kernel.proxyPort(port, {cache});\n",
              "    const iframe = document.createElement('iframe');\n",
              "    iframe.src = new URL(path, url).toString();\n",
              "    iframe.height = height;\n",
              "    iframe.width = width;\n",
              "    iframe.style.border = 0;\n",
              "    iframe.allow = [\n",
              "        'accelerometer',\n",
              "        'autoplay',\n",
              "        'camera',\n",
              "        'clipboard-read',\n",
              "        'clipboard-write',\n",
              "        'gyroscope',\n",
              "        'magnetometer',\n",
              "        'microphone',\n",
              "        'serial',\n",
              "        'usb',\n",
              "        'xr-spatial-tracking',\n",
              "    ].join('; ');\n",
              "    element.appendChild(iframe);\n",
              "  })(8050, \"/\", \"100%\", 650, false, window.element)"
            ]
          },
          "metadata": {}
        }
      ]
    }
  ]
}